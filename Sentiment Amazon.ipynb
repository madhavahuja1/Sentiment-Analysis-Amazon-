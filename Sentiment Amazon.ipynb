# -*- coding: utf-8 -*-
"""Copy of Sentiment Analysis-Amazon.ipynb
import numpy as np
import pandas as pd
import nltk
from nltk.sentiment.vader import SentimentIntensityAnalyzer
import re
from textblob import TextBlob
from wordcloud import WordCloud
import seaborn as sns
import matplotlib.pyplot as plt
import cufflinks as cf
%matplotlib inline
import matplotlib.pyplot as plt
import plotly
from plotly.offline import init_notebook_mode, iplot

init_notebook_mode(connected = True)
cf.go_offline();
import plotly.graph_objs as go
from plotly.subplots import make_subplots
import warnings
warnings.filterwarnings("ignore")
warnings.warn("this will not show")

pd.set_option('display.max_columns', None)

import pandas as pd
df = pd.read_csv('C:/Users/Madhav Ahuja/.ipynb_checkpoints/Dataset/amazon.csv')
df = df.sort_values("wilson_lower_bound",ascending = False)
df.drop('Unnamed: 0',inplace =True,axis =1)
df.head()
import pandas as pd
import numpy as np

def missing_values_analysis(df):
    """
    Analyze missing values in the DataFrame.
    """
    missing_values = df.isnull().sum()
    total_rows = df.shape[0]
    missing_percentage = (missing_values / total_rows) * 100

    missing_info = pd.DataFrame({
        'Missing Values': missing_values,
        'Percentage': missing_percentage
    })

    return missing_info

def check_dataframe(df, heads=5, tail=5):
    print("SHAPE" .center(82, '~'))
    print('Rows:{}'.format(df.shape[0]))
    print('Columns:{}'.format(df.shape[1]))
    print("TYPES" .center(82, '~'))
    print(df.dtypes)
    print("" .center(82, '~'))
    print(missing_values_analysis(df))
    print('DUPLICATED VALUES' .center(83, '~'))
    print(df.duplicated().sum())
    print("QUANTILES" .center(82, '~'))

    # Select only numeric columns for quantile calculation
    numeric_columns = df.select_dtypes(include=np.number).columns
    print(df[numeric_columns].quantile([0, 0.05, 0.50, 0.95, 0.99, 1]).T)


check_dataframe(df)

def check_class(dataframe):
    nunique_df =pd.DataFrame({'Variable':dataframe.columns,
                              'Classes': [dataframe[i].nunique() \
                             for i in dataframe.columns]})
    nuinque_df = nunique_df.sort_values('Classes',ascending = False)
    nunique_df = nunique_df.reset_index(drop = True)
    return nunique_df

check_class(df)
    constraints =['#B34D22','#EBE00C','#1FEB0C','#0C92EB','#EB0CD5']
def categorical_variable_summary(df ,column_name):
    fig = make_subplots(rows =1,cols =2,
                        subplot_titles=('Countplot','Percentages'),
                        specs =[[{"type": "xy"},{'type':'domain'}]])

    fig.add_trace(go.Bar(y= df[column_name].value_counts().values.tolist(),
                         x=[str(i) for i in df[column_name].value_counts().index],
                         text = df[column_name].value_counts().values.tolist(),
                         textfont = dict(size=14),
                         name = column_name,
                         textposition ='auto',
                       showlegend = False,
                          marker = dict(color =constraints,
                                        line = dict(color ='#DBE6EC',
                                                    width =1))),
                  row =1 ,col =1)
    
    fig.add_trace(go.Pie(labels =df[column_name].value_counts().keys(),
                         values =df[column_name].value_counts().values,
                         textfont = dict(size =20),
                         textposition ='auto',
                         showlegend =False,
                        name =column_name,
                        marker = dict(colors = constraints)),
                  row =1 ,col =2)
        
    fig.update_layout(title={'text':column_name,
                             'y':0.9,
                             'x':0.5,
                             'xanchor':'center',
                             'yanchor':'top'},
                      template ='plotly_white')
    iplot(fig)
                      
   categorical_variable_summary(df, 'overall')

